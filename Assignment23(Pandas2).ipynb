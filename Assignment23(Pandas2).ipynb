{
 "cells": [
  {
   "cell_type": "code",
   "execution_count": 12,
   "id": "4350867a-ff4a-4ec2-b581-0d14b8926694",
   "metadata": {},
   "outputs": [],
   "source": [
    "import pandas as pd\n",
    "\n",
    "course_name = ['Data Science', 'Machine Learning', 'Big Data', 'Data Engineer']\n",
    "\n",
    "duration =  [2,3,6,4]\n",
    "\n",
    "df = pd.DataFrame(data = {'course_name' : course_name, 'duration' : duration})"
   ]
  },
  {
   "cell_type": "code",
   "execution_count": 13,
   "id": "1cd9b84b-6353-4f35-81e9-fe394d9f49b5",
   "metadata": {},
   "outputs": [
    {
     "data": {
      "text/html": [
       "<div>\n",
       "<style scoped>\n",
       "    .dataframe tbody tr th:only-of-type {\n",
       "        vertical-align: middle;\n",
       "    }\n",
       "\n",
       "    .dataframe tbody tr th {\n",
       "        vertical-align: top;\n",
       "    }\n",
       "\n",
       "    .dataframe thead th {\n",
       "        text-align: right;\n",
       "    }\n",
       "</style>\n",
       "<table border=\"1\" class=\"dataframe\">\n",
       "  <thead>\n",
       "    <tr style=\"text-align: right;\">\n",
       "      <th></th>\n",
       "      <th>course_name</th>\n",
       "      <th>duration</th>\n",
       "    </tr>\n",
       "  </thead>\n",
       "  <tbody>\n",
       "    <tr>\n",
       "      <th>0</th>\n",
       "      <td>Data Science</td>\n",
       "      <td>2</td>\n",
       "    </tr>\n",
       "    <tr>\n",
       "      <th>1</th>\n",
       "      <td>Machine Learning</td>\n",
       "      <td>3</td>\n",
       "    </tr>\n",
       "    <tr>\n",
       "      <th>2</th>\n",
       "      <td>Big Data</td>\n",
       "      <td>6</td>\n",
       "    </tr>\n",
       "    <tr>\n",
       "      <th>3</th>\n",
       "      <td>Data Engineer</td>\n",
       "      <td>4</td>\n",
       "    </tr>\n",
       "  </tbody>\n",
       "</table>\n",
       "</div>"
      ],
      "text/plain": [
       "        course_name  duration\n",
       "0      Data Science         2\n",
       "1  Machine Learning         3\n",
       "2          Big Data         6\n",
       "3     Data Engineer         4"
      ]
     },
     "execution_count": 13,
     "metadata": {},
     "output_type": "execute_result"
    }
   ],
   "source": [
    "df"
   ]
  },
  {
   "cell_type": "markdown",
   "id": "b27c4177-3d0f-4124-a4b6-036c78f08f63",
   "metadata": {},
   "source": [
    "Q1. Write a code to print the data present in the second row of the dataframe, df."
   ]
  },
  {
   "cell_type": "code",
   "execution_count": 58,
   "id": "15a8950c-3424-4fea-b572-aa8dadc50b8c",
   "metadata": {},
   "outputs": [
    {
     "data": {
      "text/html": [
       "<div>\n",
       "<style scoped>\n",
       "    .dataframe tbody tr th:only-of-type {\n",
       "        vertical-align: middle;\n",
       "    }\n",
       "\n",
       "    .dataframe tbody tr th {\n",
       "        vertical-align: top;\n",
       "    }\n",
       "\n",
       "    .dataframe thead th {\n",
       "        text-align: right;\n",
       "    }\n",
       "</style>\n",
       "<table border=\"1\" class=\"dataframe\">\n",
       "  <thead>\n",
       "    <tr style=\"text-align: right;\">\n",
       "      <th></th>\n",
       "      <th>course_name</th>\n",
       "      <th>duration</th>\n",
       "    </tr>\n",
       "  </thead>\n",
       "  <tbody>\n",
       "    <tr>\n",
       "      <th>1</th>\n",
       "      <td>Machine Learning</td>\n",
       "      <td>3</td>\n",
       "    </tr>\n",
       "  </tbody>\n",
       "</table>\n",
       "</div>"
      ],
      "text/plain": [
       "        course_name  duration\n",
       "1  Machine Learning         3"
      ]
     },
     "execution_count": 58,
     "metadata": {},
     "output_type": "execute_result"
    }
   ],
   "source": [
    "df[[\"course_name\",\"duration\"]][1:2]"
   ]
  },
  {
   "cell_type": "code",
   "execution_count": null,
   "id": "4ed48972-2bac-433a-9892-42eb34dfad3b",
   "metadata": {},
   "outputs": [],
   "source": []
  },
  {
   "cell_type": "markdown",
   "id": "f3713af2-d2d8-4c8a-9346-9b2fe5df8c77",
   "metadata": {},
   "source": [
    "Q2. What is the difference between the functions loc and iloc in pandas.DataFrame?"
   ]
  },
  {
   "cell_type": "markdown",
   "id": "13a238fe-0dcd-4cff-ac0f-c71ddaa9a326",
   "metadata": {},
   "source": [
    "Ans.In pandas ,'loc' and 'iloc' are used to access data within a Dataframe :"
   ]
  },
  {
   "cell_type": "markdown",
   "id": "9243808a-7684-42d1-bcaf-371f82b4f205",
   "metadata": {},
   "source": [
    "(a).'loc' is label-based indexing .It allows us to access a group of rows and columns by labels(names) or a boolean array .We can use it with labels of rows and columns to slice the data."
   ]
  },
  {
   "cell_type": "markdown",
   "id": "6f9fcf21-113c-48fb-b826-734367f027c9",
   "metadata": {},
   "source": [
    "eg."
   ]
  },
  {
   "cell_type": "code",
   "execution_count": 59,
   "id": "1ae3481e-121b-4630-9261-caa5d75275f9",
   "metadata": {},
   "outputs": [
    {
     "data": {
      "text/html": [
       "<div>\n",
       "<style scoped>\n",
       "    .dataframe tbody tr th:only-of-type {\n",
       "        vertical-align: middle;\n",
       "    }\n",
       "\n",
       "    .dataframe tbody tr th {\n",
       "        vertical-align: top;\n",
       "    }\n",
       "\n",
       "    .dataframe thead th {\n",
       "        text-align: right;\n",
       "    }\n",
       "</style>\n",
       "<table border=\"1\" class=\"dataframe\">\n",
       "  <thead>\n",
       "    <tr style=\"text-align: right;\">\n",
       "      <th></th>\n",
       "      <th>course_name</th>\n",
       "      <th>duration</th>\n",
       "    </tr>\n",
       "  </thead>\n",
       "  <tbody>\n",
       "    <tr>\n",
       "      <th>0</th>\n",
       "      <td>Data Science</td>\n",
       "      <td>2</td>\n",
       "    </tr>\n",
       "    <tr>\n",
       "      <th>1</th>\n",
       "      <td>Machine Learning</td>\n",
       "      <td>3</td>\n",
       "    </tr>\n",
       "  </tbody>\n",
       "</table>\n",
       "</div>"
      ],
      "text/plain": [
       "        course_name  duration\n",
       "0      Data Science         2\n",
       "1  Machine Learning         3"
      ]
     },
     "execution_count": 59,
     "metadata": {},
     "output_type": "execute_result"
    }
   ],
   "source": [
    "df.loc[0:1,[\"course_name\",\"duration\"]]"
   ]
  },
  {
   "cell_type": "markdown",
   "id": "8815a3fb-fe7e-432b-93c3-26983194780a",
   "metadata": {},
   "source": [
    "(b).'iloc' is the integer-location based indexing .it is used when we want to access the data based on its numerical position .We cxan pass integer values to extracrt specific rows and columns."
   ]
  },
  {
   "cell_type": "markdown",
   "id": "d31e613b-8731-4595-915c-122640a71f76",
   "metadata": {},
   "source": [
    "eg."
   ]
  },
  {
   "cell_type": "code",
   "execution_count": 60,
   "id": "54a496f1-f8d4-4155-a941-af19f81c3901",
   "metadata": {},
   "outputs": [
    {
     "data": {
      "text/html": [
       "<div>\n",
       "<style scoped>\n",
       "    .dataframe tbody tr th:only-of-type {\n",
       "        vertical-align: middle;\n",
       "    }\n",
       "\n",
       "    .dataframe tbody tr th {\n",
       "        vertical-align: top;\n",
       "    }\n",
       "\n",
       "    .dataframe thead th {\n",
       "        text-align: right;\n",
       "    }\n",
       "</style>\n",
       "<table border=\"1\" class=\"dataframe\">\n",
       "  <thead>\n",
       "    <tr style=\"text-align: right;\">\n",
       "      <th></th>\n",
       "      <th>course_name</th>\n",
       "      <th>duration</th>\n",
       "    </tr>\n",
       "  </thead>\n",
       "  <tbody>\n",
       "    <tr>\n",
       "      <th>0</th>\n",
       "      <td>Data Science</td>\n",
       "      <td>2</td>\n",
       "    </tr>\n",
       "    <tr>\n",
       "      <th>1</th>\n",
       "      <td>Machine Learning</td>\n",
       "      <td>3</td>\n",
       "    </tr>\n",
       "  </tbody>\n",
       "</table>\n",
       "</div>"
      ],
      "text/plain": [
       "        course_name  duration\n",
       "0      Data Science         2\n",
       "1  Machine Learning         3"
      ]
     },
     "execution_count": 60,
     "metadata": {},
     "output_type": "execute_result"
    }
   ],
   "source": [
    "df.iloc[0:2,[0,1]]"
   ]
  },
  {
   "cell_type": "code",
   "execution_count": null,
   "id": "18ae52e3-d42c-4e12-8c4d-e5f250261f68",
   "metadata": {},
   "outputs": [],
   "source": []
  },
  {
   "cell_type": "markdown",
   "id": "bdfb2610-79fa-4824-b86b-78d0b179d890",
   "metadata": {},
   "source": [
    "Q3. Reindex the given dataframe using a variable, reindex = [3,0,1,2] and store it in the variable, new_df\n",
    "then find the output for both new_df.loc[2] and new_df.iloc[2]."
   ]
  },
  {
   "cell_type": "code",
   "execution_count": 10,
   "id": "d1504848-3945-4d18-bf9d-a85d84fedd5e",
   "metadata": {},
   "outputs": [],
   "source": [
    "l =[3,0,1,2]"
   ]
  },
  {
   "cell_type": "code",
   "execution_count": 11,
   "id": "47126d75-4b7b-42a8-9aa1-285a642474ad",
   "metadata": {},
   "outputs": [],
   "source": [
    "new_df = df.reindex(l)"
   ]
  },
  {
   "cell_type": "code",
   "execution_count": 12,
   "id": "c967230e-c695-4240-ac5e-6d655964e41f",
   "metadata": {},
   "outputs": [
    {
     "data": {
      "text/html": [
       "<div>\n",
       "<style scoped>\n",
       "    .dataframe tbody tr th:only-of-type {\n",
       "        vertical-align: middle;\n",
       "    }\n",
       "\n",
       "    .dataframe tbody tr th {\n",
       "        vertical-align: top;\n",
       "    }\n",
       "\n",
       "    .dataframe thead th {\n",
       "        text-align: right;\n",
       "    }\n",
       "</style>\n",
       "<table border=\"1\" class=\"dataframe\">\n",
       "  <thead>\n",
       "    <tr style=\"text-align: right;\">\n",
       "      <th></th>\n",
       "      <th>course_name</th>\n",
       "      <th>duration</th>\n",
       "    </tr>\n",
       "  </thead>\n",
       "  <tbody>\n",
       "    <tr>\n",
       "      <th>3</th>\n",
       "      <td>Data Engineer</td>\n",
       "      <td>4</td>\n",
       "    </tr>\n",
       "    <tr>\n",
       "      <th>0</th>\n",
       "      <td>Data Science</td>\n",
       "      <td>2</td>\n",
       "    </tr>\n",
       "    <tr>\n",
       "      <th>1</th>\n",
       "      <td>Machine Learning</td>\n",
       "      <td>3</td>\n",
       "    </tr>\n",
       "    <tr>\n",
       "      <th>2</th>\n",
       "      <td>Big Data</td>\n",
       "      <td>6</td>\n",
       "    </tr>\n",
       "  </tbody>\n",
       "</table>\n",
       "</div>"
      ],
      "text/plain": [
       "        course_name  duration\n",
       "3     Data Engineer         4\n",
       "0      Data Science         2\n",
       "1  Machine Learning         3\n",
       "2          Big Data         6"
      ]
     },
     "execution_count": 12,
     "metadata": {},
     "output_type": "execute_result"
    }
   ],
   "source": [
    "new_df"
   ]
  },
  {
   "cell_type": "code",
   "execution_count": 13,
   "id": "ed923d54-4167-4b89-b0e0-e4a60e000098",
   "metadata": {},
   "outputs": [
    {
     "data": {
      "text/html": [
       "<div>\n",
       "<style scoped>\n",
       "    .dataframe tbody tr th:only-of-type {\n",
       "        vertical-align: middle;\n",
       "    }\n",
       "\n",
       "    .dataframe tbody tr th {\n",
       "        vertical-align: top;\n",
       "    }\n",
       "\n",
       "    .dataframe thead th {\n",
       "        text-align: right;\n",
       "    }\n",
       "</style>\n",
       "<table border=\"1\" class=\"dataframe\">\n",
       "  <thead>\n",
       "    <tr style=\"text-align: right;\">\n",
       "      <th></th>\n",
       "      <th>course_name</th>\n",
       "      <th>duration</th>\n",
       "    </tr>\n",
       "  </thead>\n",
       "  <tbody>\n",
       "    <tr>\n",
       "      <th>2</th>\n",
       "      <td>Big Data</td>\n",
       "      <td>6</td>\n",
       "    </tr>\n",
       "  </tbody>\n",
       "</table>\n",
       "</div>"
      ],
      "text/plain": [
       "  course_name  duration\n",
       "2    Big Data         6"
      ]
     },
     "execution_count": 13,
     "metadata": {},
     "output_type": "execute_result"
    }
   ],
   "source": [
    "new_df.loc[[2]]"
   ]
  },
  {
   "cell_type": "code",
   "execution_count": 14,
   "id": "3b6f4250-e9f4-42e7-b971-5da7a7b4ca79",
   "metadata": {},
   "outputs": [
    {
     "data": {
      "text/html": [
       "<div>\n",
       "<style scoped>\n",
       "    .dataframe tbody tr th:only-of-type {\n",
       "        vertical-align: middle;\n",
       "    }\n",
       "\n",
       "    .dataframe tbody tr th {\n",
       "        vertical-align: top;\n",
       "    }\n",
       "\n",
       "    .dataframe thead th {\n",
       "        text-align: right;\n",
       "    }\n",
       "</style>\n",
       "<table border=\"1\" class=\"dataframe\">\n",
       "  <thead>\n",
       "    <tr style=\"text-align: right;\">\n",
       "      <th></th>\n",
       "      <th>course_name</th>\n",
       "      <th>duration</th>\n",
       "    </tr>\n",
       "  </thead>\n",
       "  <tbody>\n",
       "    <tr>\n",
       "      <th>1</th>\n",
       "      <td>Machine Learning</td>\n",
       "      <td>3</td>\n",
       "    </tr>\n",
       "  </tbody>\n",
       "</table>\n",
       "</div>"
      ],
      "text/plain": [
       "        course_name  duration\n",
       "1  Machine Learning         3"
      ]
     },
     "execution_count": 14,
     "metadata": {},
     "output_type": "execute_result"
    }
   ],
   "source": [
    "new_df.iloc[[2]]"
   ]
  },
  {
   "cell_type": "markdown",
   "id": "39b74fed-be15-448a-9d1f-1cd158ee454a",
   "metadata": {},
   "source": [
    "In this example , I have created Dataframe 'df' with two columns 'course_name' and 'duration' .Then I dedined the reindex order using the list l =[3,0,1,2] and applied to the Dataframe using 'df.reindex(l)' ,storing the result in 'new_df' "
   ]
  },
  {
   "cell_type": "markdown",
   "id": "d509e6eb-c193-44cb-82d8-d7417b220238",
   "metadata": {},
   "source": [
    "Finally ,I accessed the row labeled '2' using 'newe_df.loc[2]' which gives the course name 'MachineLearning' with duration 3, and I accessed the row at the position '2' using 'new_df [2]' which gives the course name 'Data Science' with dfuration 2."
   ]
  },
  {
   "cell_type": "code",
   "execution_count": 5,
   "id": "4936797e-dd76-4e64-9254-818bd6aaa9c5",
   "metadata": {},
   "outputs": [],
   "source": [
    "import pandas as pd\n",
    "\n",
    "import numpy as np\n",
    "\n",
    "columns = ['column_1', 'column_2', 'column_3', 'column_4', 'column_5', 'column_6']\n",
    "\n",
    "indices = [1,2,3,4,5,6]\n",
    "\n",
    "#Creating a dataframe:\n",
    "\n",
    "df1 = pd.DataFrame(np.random.rand(6,6), columns = columns, index = indices)"
   ]
  },
  {
   "cell_type": "code",
   "execution_count": 10,
   "id": "a4eb59f6-4fa8-4523-a178-8522cd15f081",
   "metadata": {},
   "outputs": [
    {
     "data": {
      "text/html": [
       "<div>\n",
       "<style scoped>\n",
       "    .dataframe tbody tr th:only-of-type {\n",
       "        vertical-align: middle;\n",
       "    }\n",
       "\n",
       "    .dataframe tbody tr th {\n",
       "        vertical-align: top;\n",
       "    }\n",
       "\n",
       "    .dataframe thead th {\n",
       "        text-align: right;\n",
       "    }\n",
       "</style>\n",
       "<table border=\"1\" class=\"dataframe\">\n",
       "  <thead>\n",
       "    <tr style=\"text-align: right;\">\n",
       "      <th></th>\n",
       "      <th>column_1</th>\n",
       "      <th>column_2</th>\n",
       "      <th>column_3</th>\n",
       "      <th>column_4</th>\n",
       "      <th>column_5</th>\n",
       "      <th>column_6</th>\n",
       "    </tr>\n",
       "  </thead>\n",
       "  <tbody>\n",
       "    <tr>\n",
       "      <th>1</th>\n",
       "      <td>0.913906</td>\n",
       "      <td>0.158846</td>\n",
       "      <td>0.322446</td>\n",
       "      <td>0.478271</td>\n",
       "      <td>0.013398</td>\n",
       "      <td>0.814762</td>\n",
       "    </tr>\n",
       "    <tr>\n",
       "      <th>2</th>\n",
       "      <td>0.112837</td>\n",
       "      <td>0.401316</td>\n",
       "      <td>0.034422</td>\n",
       "      <td>0.245646</td>\n",
       "      <td>0.876715</td>\n",
       "      <td>0.718400</td>\n",
       "    </tr>\n",
       "    <tr>\n",
       "      <th>3</th>\n",
       "      <td>0.030004</td>\n",
       "      <td>0.378635</td>\n",
       "      <td>0.159844</td>\n",
       "      <td>0.623292</td>\n",
       "      <td>0.191134</td>\n",
       "      <td>0.446332</td>\n",
       "    </tr>\n",
       "    <tr>\n",
       "      <th>4</th>\n",
       "      <td>0.137368</td>\n",
       "      <td>0.611819</td>\n",
       "      <td>0.835233</td>\n",
       "      <td>0.543988</td>\n",
       "      <td>0.246341</td>\n",
       "      <td>0.310289</td>\n",
       "    </tr>\n",
       "    <tr>\n",
       "      <th>5</th>\n",
       "      <td>0.358088</td>\n",
       "      <td>0.880651</td>\n",
       "      <td>0.265549</td>\n",
       "      <td>0.107824</td>\n",
       "      <td>0.507385</td>\n",
       "      <td>0.281931</td>\n",
       "    </tr>\n",
       "    <tr>\n",
       "      <th>6</th>\n",
       "      <td>0.020382</td>\n",
       "      <td>0.998905</td>\n",
       "      <td>0.128184</td>\n",
       "      <td>0.546451</td>\n",
       "      <td>0.846690</td>\n",
       "      <td>0.157876</td>\n",
       "    </tr>\n",
       "  </tbody>\n",
       "</table>\n",
       "</div>"
      ],
      "text/plain": [
       "   column_1  column_2  column_3  column_4  column_5  column_6\n",
       "1  0.913906  0.158846  0.322446  0.478271  0.013398  0.814762\n",
       "2  0.112837  0.401316  0.034422  0.245646  0.876715  0.718400\n",
       "3  0.030004  0.378635  0.159844  0.623292  0.191134  0.446332\n",
       "4  0.137368  0.611819  0.835233  0.543988  0.246341  0.310289\n",
       "5  0.358088  0.880651  0.265549  0.107824  0.507385  0.281931\n",
       "6  0.020382  0.998905  0.128184  0.546451  0.846690  0.157876"
      ]
     },
     "execution_count": 10,
     "metadata": {},
     "output_type": "execute_result"
    }
   ],
   "source": [
    "df1"
   ]
  },
  {
   "cell_type": "code",
   "execution_count": null,
   "id": "d2be8acb-7fd9-417c-8d6d-b2fd583aae10",
   "metadata": {},
   "outputs": [],
   "source": []
  },
  {
   "cell_type": "markdown",
   "id": "e1a43b4b-a92d-41a7-acd9-3862b80418f2",
   "metadata": {},
   "source": [
    "Q4. Write a code to find the following statistical measurements for the above dataframe df1:\n",
    "\n",
    "(i) \tmean of each and every column present in the dataframe.\n",
    "\n",
    "(ii) standard deviation of column, ‘column_2’"
   ]
  },
  {
   "cell_type": "markdown",
   "id": "1fc0c83c-84c6-4859-9d46-6c14fcef414c",
   "metadata": {},
   "source": [
    "(i)."
   ]
  },
  {
   "cell_type": "code",
   "execution_count": 27,
   "id": "2719c74e-4805-4c27-8b78-1d2feed0be14",
   "metadata": {},
   "outputs": [
    {
     "data": {
      "text/html": [
       "<div>\n",
       "<style scoped>\n",
       "    .dataframe tbody tr th:only-of-type {\n",
       "        vertical-align: middle;\n",
       "    }\n",
       "\n",
       "    .dataframe tbody tr th {\n",
       "        vertical-align: top;\n",
       "    }\n",
       "\n",
       "    .dataframe thead th {\n",
       "        text-align: right;\n",
       "    }\n",
       "</style>\n",
       "<table border=\"1\" class=\"dataframe\">\n",
       "  <thead>\n",
       "    <tr style=\"text-align: right;\">\n",
       "      <th></th>\n",
       "      <th>0</th>\n",
       "    </tr>\n",
       "  </thead>\n",
       "  <tbody>\n",
       "    <tr>\n",
       "      <th>column_1</th>\n",
       "      <td>0.262098</td>\n",
       "    </tr>\n",
       "    <tr>\n",
       "      <th>column_2</th>\n",
       "      <td>0.571695</td>\n",
       "    </tr>\n",
       "    <tr>\n",
       "      <th>column_3</th>\n",
       "      <td>0.290946</td>\n",
       "    </tr>\n",
       "    <tr>\n",
       "      <th>column_4</th>\n",
       "      <td>0.424245</td>\n",
       "    </tr>\n",
       "    <tr>\n",
       "      <th>column_5</th>\n",
       "      <td>0.446944</td>\n",
       "    </tr>\n",
       "    <tr>\n",
       "      <th>column_6</th>\n",
       "      <td>0.454932</td>\n",
       "    </tr>\n",
       "  </tbody>\n",
       "</table>\n",
       "</div>"
      ],
      "text/plain": [
       "                 0\n",
       "column_1  0.262098\n",
       "column_2  0.571695\n",
       "column_3  0.290946\n",
       "column_4  0.424245\n",
       "column_5  0.446944\n",
       "column_6  0.454932"
      ]
     },
     "execution_count": 27,
     "metadata": {},
     "output_type": "execute_result"
    }
   ],
   "source": [
    "pd.DataFrame(df1[[\"column_1\",\"column_2\",\"column_3\",\"column_4\",\"column_5\",\"column_6\"]].mean())"
   ]
  },
  {
   "cell_type": "markdown",
   "id": "76db71b9-e970-41c4-8a43-5156a78cd939",
   "metadata": {},
   "source": [
    "(ii)."
   ]
  },
  {
   "cell_type": "code",
   "execution_count": 28,
   "id": "e0a2d8ea-2f87-4e73-a57d-d03d80e595ed",
   "metadata": {},
   "outputs": [
    {
     "data": {
      "text/plain": [
       "0.3213464880656837"
      ]
     },
     "execution_count": 28,
     "metadata": {},
     "output_type": "execute_result"
    }
   ],
   "source": [
    "df1[\"column_2\"].std()"
   ]
  },
  {
   "cell_type": "code",
   "execution_count": null,
   "id": "4084bf86-6f3e-4fc4-bacb-3a004ac0cc7a",
   "metadata": {},
   "outputs": [],
   "source": []
  },
  {
   "cell_type": "markdown",
   "id": "c526bac5-f7fa-4048-92e5-d12a47e5eff9",
   "metadata": {},
   "source": [
    "Q5. Replace the data present in the second row of column, ‘column_2’ by a string variable then find the\n",
    "mean of column, column_2.\n",
    "\n",
    "If you are getting errors in executing it then explain why.\n",
    "\n",
    "[Hint: To replace the data use df1.loc[] and equate this to string data of your choice.]"
   ]
  },
  {
   "cell_type": "code",
   "execution_count": 48,
   "id": "1dfa0be4-d668-4630-ac47-db5e311901cd",
   "metadata": {},
   "outputs": [],
   "source": [
    "df1.loc[2,[\"column_2\"]] =\"Pranay\""
   ]
  },
  {
   "cell_type": "code",
   "execution_count": 49,
   "id": "d9f241bf-150a-457f-9885-574d6a4738f1",
   "metadata": {},
   "outputs": [
    {
     "data": {
      "text/html": [
       "<div>\n",
       "<style scoped>\n",
       "    .dataframe tbody tr th:only-of-type {\n",
       "        vertical-align: middle;\n",
       "    }\n",
       "\n",
       "    .dataframe tbody tr th {\n",
       "        vertical-align: top;\n",
       "    }\n",
       "\n",
       "    .dataframe thead th {\n",
       "        text-align: right;\n",
       "    }\n",
       "</style>\n",
       "<table border=\"1\" class=\"dataframe\">\n",
       "  <thead>\n",
       "    <tr style=\"text-align: right;\">\n",
       "      <th></th>\n",
       "      <th>column_1</th>\n",
       "      <th>column_2</th>\n",
       "      <th>column_3</th>\n",
       "      <th>column_4</th>\n",
       "      <th>column_5</th>\n",
       "      <th>column_6</th>\n",
       "    </tr>\n",
       "  </thead>\n",
       "  <tbody>\n",
       "    <tr>\n",
       "      <th>1</th>\n",
       "      <td>0.913906</td>\n",
       "      <td>0.158846</td>\n",
       "      <td>0.322446</td>\n",
       "      <td>0.478271</td>\n",
       "      <td>0.013398</td>\n",
       "      <td>0.814762</td>\n",
       "    </tr>\n",
       "    <tr>\n",
       "      <th>2</th>\n",
       "      <td>0.112837</td>\n",
       "      <td>Pranay</td>\n",
       "      <td>0.034422</td>\n",
       "      <td>0.245646</td>\n",
       "      <td>0.876715</td>\n",
       "      <td>0.718400</td>\n",
       "    </tr>\n",
       "    <tr>\n",
       "      <th>3</th>\n",
       "      <td>0.030004</td>\n",
       "      <td>0.378635</td>\n",
       "      <td>0.159844</td>\n",
       "      <td>0.623292</td>\n",
       "      <td>0.191134</td>\n",
       "      <td>0.446332</td>\n",
       "    </tr>\n",
       "    <tr>\n",
       "      <th>4</th>\n",
       "      <td>0.137368</td>\n",
       "      <td>0.611819</td>\n",
       "      <td>0.835233</td>\n",
       "      <td>0.543988</td>\n",
       "      <td>0.246341</td>\n",
       "      <td>0.310289</td>\n",
       "    </tr>\n",
       "    <tr>\n",
       "      <th>5</th>\n",
       "      <td>0.358088</td>\n",
       "      <td>0.880651</td>\n",
       "      <td>0.265549</td>\n",
       "      <td>0.107824</td>\n",
       "      <td>0.507385</td>\n",
       "      <td>0.281931</td>\n",
       "    </tr>\n",
       "    <tr>\n",
       "      <th>6</th>\n",
       "      <td>0.020382</td>\n",
       "      <td>0.998905</td>\n",
       "      <td>0.128184</td>\n",
       "      <td>0.546451</td>\n",
       "      <td>0.846690</td>\n",
       "      <td>0.157876</td>\n",
       "    </tr>\n",
       "  </tbody>\n",
       "</table>\n",
       "</div>"
      ],
      "text/plain": [
       "   column_1  column_2  column_3  column_4  column_5  column_6\n",
       "1  0.913906  0.158846  0.322446  0.478271  0.013398  0.814762\n",
       "2  0.112837    Pranay  0.034422  0.245646  0.876715  0.718400\n",
       "3  0.030004  0.378635  0.159844  0.623292  0.191134  0.446332\n",
       "4  0.137368  0.611819  0.835233  0.543988  0.246341  0.310289\n",
       "5  0.358088  0.880651  0.265549  0.107824  0.507385  0.281931\n",
       "6  0.020382  0.998905  0.128184  0.546451  0.846690  0.157876"
      ]
     },
     "execution_count": 49,
     "metadata": {},
     "output_type": "execute_result"
    }
   ],
   "source": [
    "df1"
   ]
  },
  {
   "cell_type": "markdown",
   "id": "96238dbe-959f-46b9-a86f-d6ef0133bd0b",
   "metadata": {},
   "source": [
    "df1[\"column_2\"].mean()"
   ]
  },
  {
   "cell_type": "markdown",
   "id": "0ab6d368-daa1-4440-9f60-4603be478f1d",
   "metadata": {},
   "source": [
    "we are getting error because we can't add floating value with string value"
   ]
  },
  {
   "cell_type": "code",
   "execution_count": null,
   "id": "e81fe2ad-ecee-47dd-bd91-a6b790414bfe",
   "metadata": {},
   "outputs": [],
   "source": []
  },
  {
   "cell_type": "markdown",
   "id": "c25cb9b1-1dc2-4feb-b453-a427d4343325",
   "metadata": {},
   "source": [
    "Q6. What do you understand about the windows function in pandas and list the types of windows\n",
    "functions?"
   ]
  },
  {
   "cell_type": "markdown",
   "id": "9fa8437b-cfee-42a2-bef3-6e0e7d22e3cc",
   "metadata": {},
   "source": [
    "Ans. In Pandas, a \"window function\" also known as \"windowing\" or \"windowed\" function, performs calculation on a specified subset of DataFrame ,which is determinded by a \"window\" of data. These functions are especially useful for tasks like computing rolling average , cumulative sums and other aggregations based on sliding window of data points."
   ]
  },
  {
   "cell_type": "markdown",
   "id": "0e981947-e327-4007-8905-485470ae26a8",
   "metadata": {},
   "source": [
    "Some common types of window functions in Pandas :"
   ]
  },
  {
   "cell_type": "markdown",
   "id": "6ccd153d-4b99-4450-8c8c-e15ca8d4edfa",
   "metadata": {},
   "source": [
    "(a).Rolling Functions: The functions operate on a rolling (moving) window of data points. eg."
   ]
  },
  {
   "cell_type": "markdown",
   "id": "8d700d8e-381d-4014-a2de-2a755c799653",
   "metadata": {},
   "source": [
    "\"rolling_mean()\","
   ]
  },
  {
   "cell_type": "markdown",
   "id": "b55363a0-fb25-470f-aa3b-24db8673a7ab",
   "metadata": {},
   "source": [
    "\"rolling_sum\", and"
   ]
  },
  {
   "cell_type": "markdown",
   "id": "d2578faa-a3c7-407b-b433-d31271d159de",
   "metadata": {},
   "source": [
    "\"rolling_std\"."
   ]
  },
  {
   "cell_type": "markdown",
   "id": "a527c136-2c57-4d42-9d47-aa5d86928dcd",
   "metadata": {},
   "source": [
    "(b).Expanding Functions: These functions accumulate values over time, considering all the data up to the current point .eg."
   ]
  },
  {
   "cell_type": "markdown",
   "id": "ac4729c6-7c2b-43af-b035-32e42f6579a0",
   "metadata": {},
   "source": [
    "\"expanding_mean()\" and"
   ]
  },
  {
   "cell_type": "markdown",
   "id": "677ddce7-e7f5-422e-b276-baa44164bec2",
   "metadata": {},
   "source": [
    "\"expanding_sum()\" ."
   ]
  },
  {
   "cell_type": "markdown",
   "id": "afcac86a-8c45-49ee-bd0b-55161944b206",
   "metadata": {},
   "source": [
    "(c).Exponential Weighted Moving Average (EWMA): These functions compute exponetially weighted moving averages ,giving more weight to recent observation .eg."
   ]
  },
  {
   "cell_type": "markdown",
   "id": "3437664a-cd09-46e6-8213-1f87aa460647",
   "metadata": {},
   "source": [
    "\"ewm()\""
   ]
  },
  {
   "cell_type": "markdown",
   "id": "03076112-0712-48eb-857d-d75f1ad27451",
   "metadata": {},
   "source": [
    "(d).Aggregation Functions with Grouping: We can apply window functions within groups of data. For example ,using \"groupby\" with a rolling function to compute rolling averages within different groups ."
   ]
  },
  {
   "cell_type": "markdown",
   "id": "393c24e5-4629-46e2-9a87-e24cf69376c1",
   "metadata": {},
   "source": [
    "These functions are powerful tools for time series analysis ,data smoothing , and other operations involving ordered data. They  help gain insights into trends and patterns within datasets ."
   ]
  },
  {
   "cell_type": "code",
   "execution_count": null,
   "id": "3616789d-d0d9-46ab-83f3-1687a9d9f0f0",
   "metadata": {},
   "outputs": [],
   "source": []
  },
  {
   "cell_type": "markdown",
   "id": "ad60bfdd-96a5-4d1e-afae-e9cddfb6324c",
   "metadata": {},
   "source": [
    "Q7. Write a code to print only the current month and year at the time of answering this question.\n",
    "\n",
    "[Hint: Use pandas.datetime function]"
   ]
  },
  {
   "cell_type": "code",
   "execution_count": 3,
   "id": "2158affd-a61d-4893-aed4-ed4289a6a88b",
   "metadata": {},
   "outputs": [],
   "source": [
    "Date = pd.to_datetime('2023-10-05')"
   ]
  },
  {
   "cell_type": "code",
   "execution_count": 4,
   "id": "40712bf5-4ed9-450d-9216-fa7e261d50bd",
   "metadata": {},
   "outputs": [
    {
     "data": {
      "text/plain": [
       "Timestamp('2023-10-05 00:00:00')"
      ]
     },
     "execution_count": 4,
     "metadata": {},
     "output_type": "execute_result"
    }
   ],
   "source": [
    "Date"
   ]
  },
  {
   "cell_type": "code",
   "execution_count": null,
   "id": "b4dd443b-a70d-4137-b7aa-0ae4f648064a",
   "metadata": {},
   "outputs": [],
   "source": []
  },
  {
   "cell_type": "markdown",
   "id": "fd7aa923-4aca-4f26-b952-12fac62ef48b",
   "metadata": {},
   "source": [
    "Q8. Write a Python program that takes in two dates as input (in the format YYYY-MM-DD) and\n",
    "calculates the difference between them in days, hours, and minutes using Pandas time delta. The\n",
    "program should prompt the user to enter the dates and display the result."
   ]
  },
  {
   "cell_type": "code",
   "execution_count": 5,
   "id": "65e21691-5506-4097-9fbd-650773662f7c",
   "metadata": {},
   "outputs": [],
   "source": [
    "dt1 = pd.to_datetime(\"2023-10-05\")"
   ]
  },
  {
   "cell_type": "code",
   "execution_count": 6,
   "id": "21322c4f-88bd-408c-8bf5-4f137e83c3b2",
   "metadata": {},
   "outputs": [],
   "source": [
    "dt2 = pd.to_datetime(\"2023-10-01\")"
   ]
  },
  {
   "cell_type": "code",
   "execution_count": 7,
   "id": "79df8b36-3c4c-4988-84ba-11efe1c778e0",
   "metadata": {},
   "outputs": [],
   "source": [
    "td = pd.Timedelta(dt1-dt2)"
   ]
  },
  {
   "cell_type": "code",
   "execution_count": 8,
   "id": "9a5c1ad4-66c5-45d4-9952-2c22180dbb4e",
   "metadata": {},
   "outputs": [
    {
     "data": {
      "text/plain": [
       "Timedelta('4 days 00:00:00')"
      ]
     },
     "execution_count": 8,
     "metadata": {},
     "output_type": "execute_result"
    }
   ],
   "source": [
    "td"
   ]
  },
  {
   "cell_type": "code",
   "execution_count": null,
   "id": "fd613f1d-d6dd-4d9e-8d06-bb5f2e9fc773",
   "metadata": {},
   "outputs": [],
   "source": []
  },
  {
   "cell_type": "markdown",
   "id": "1a431bf0-bd0f-41e2-82a6-4843e77a6ed1",
   "metadata": {},
   "source": [
    "Q9. Write a Python program that reads a CSV file containing categorical data and converts a specified\n",
    "column to a categorical data type. The program should prompt the user to enter the file path, column\n",
    "name, and category order, and then display the sorted data."
   ]
  },
  {
   "cell_type": "code",
   "execution_count": 3,
   "id": "34047583-f916-4e15-b2e0-735d1ea0a8c2",
   "metadata": {},
   "outputs": [],
   "source": [
    "df=pd.read_csv(\"https://raw.githubusercontent.com/datasciencedojo/datasets/master/titanic.csv\")"
   ]
  },
  {
   "cell_type": "code",
   "execution_count": 4,
   "id": "3322575b-f740-4bf6-83ef-b7245ca44118",
   "metadata": {},
   "outputs": [],
   "source": [
    "cat = pd.Categorical(df[\"Pclass\"])"
   ]
  },
  {
   "cell_type": "code",
   "execution_count": 5,
   "id": "3f2e0322-08df-41aa-8664-bd012a1fab6e",
   "metadata": {},
   "outputs": [
    {
     "data": {
      "text/plain": [
       "1    216\n",
       "2    184\n",
       "3    491\n",
       "dtype: int64"
      ]
     },
     "execution_count": 5,
     "metadata": {},
     "output_type": "execute_result"
    }
   ],
   "source": [
    "cat.value_counts()"
   ]
  },
  {
   "cell_type": "code",
   "execution_count": 6,
   "id": "a61b9acb-afa3-44a1-aa23-ae4104f5a152",
   "metadata": {},
   "outputs": [],
   "source": [
    "df[\"Categorical\"] = df[\"Pclass\"].astype(\"category\")"
   ]
  },
  {
   "cell_type": "code",
   "execution_count": 9,
   "id": "5514e054-698e-46e4-b8cc-e4c50989eabb",
   "metadata": {},
   "outputs": [
    {
     "data": {
      "text/html": [
       "<div>\n",
       "<style scoped>\n",
       "    .dataframe tbody tr th:only-of-type {\n",
       "        vertical-align: middle;\n",
       "    }\n",
       "\n",
       "    .dataframe tbody tr th {\n",
       "        vertical-align: top;\n",
       "    }\n",
       "\n",
       "    .dataframe thead th {\n",
       "        text-align: right;\n",
       "    }\n",
       "</style>\n",
       "<table border=\"1\" class=\"dataframe\">\n",
       "  <thead>\n",
       "    <tr style=\"text-align: right;\">\n",
       "      <th></th>\n",
       "      <th>PassengerId</th>\n",
       "      <th>Survived</th>\n",
       "      <th>Pclass</th>\n",
       "      <th>Name</th>\n",
       "      <th>Sex</th>\n",
       "      <th>Age</th>\n",
       "      <th>SibSp</th>\n",
       "      <th>Parch</th>\n",
       "      <th>Ticket</th>\n",
       "      <th>Fare</th>\n",
       "      <th>Cabin</th>\n",
       "      <th>Embarked</th>\n",
       "      <th>Categorical</th>\n",
       "    </tr>\n",
       "  </thead>\n",
       "  <tbody>\n",
       "    <tr>\n",
       "      <th>0</th>\n",
       "      <td>1</td>\n",
       "      <td>0</td>\n",
       "      <td>3</td>\n",
       "      <td>Braund, Mr. Owen Harris</td>\n",
       "      <td>male</td>\n",
       "      <td>22.0</td>\n",
       "      <td>1</td>\n",
       "      <td>0</td>\n",
       "      <td>A/5 21171</td>\n",
       "      <td>7.2500</td>\n",
       "      <td>NaN</td>\n",
       "      <td>S</td>\n",
       "      <td>3</td>\n",
       "    </tr>\n",
       "    <tr>\n",
       "      <th>1</th>\n",
       "      <td>2</td>\n",
       "      <td>1</td>\n",
       "      <td>1</td>\n",
       "      <td>Cumings, Mrs. John Bradley (Florence Briggs Th...</td>\n",
       "      <td>female</td>\n",
       "      <td>38.0</td>\n",
       "      <td>1</td>\n",
       "      <td>0</td>\n",
       "      <td>PC 17599</td>\n",
       "      <td>71.2833</td>\n",
       "      <td>C85</td>\n",
       "      <td>C</td>\n",
       "      <td>1</td>\n",
       "    </tr>\n",
       "    <tr>\n",
       "      <th>2</th>\n",
       "      <td>3</td>\n",
       "      <td>1</td>\n",
       "      <td>3</td>\n",
       "      <td>Heikkinen, Miss. Laina</td>\n",
       "      <td>female</td>\n",
       "      <td>26.0</td>\n",
       "      <td>0</td>\n",
       "      <td>0</td>\n",
       "      <td>STON/O2. 3101282</td>\n",
       "      <td>7.9250</td>\n",
       "      <td>NaN</td>\n",
       "      <td>S</td>\n",
       "      <td>3</td>\n",
       "    </tr>\n",
       "  </tbody>\n",
       "</table>\n",
       "</div>"
      ],
      "text/plain": [
       "   PassengerId  Survived  Pclass  \\\n",
       "0            1         0       3   \n",
       "1            2         1       1   \n",
       "2            3         1       3   \n",
       "\n",
       "                                                Name     Sex   Age  SibSp  \\\n",
       "0                            Braund, Mr. Owen Harris    male  22.0      1   \n",
       "1  Cumings, Mrs. John Bradley (Florence Briggs Th...  female  38.0      1   \n",
       "2                             Heikkinen, Miss. Laina  female  26.0      0   \n",
       "\n",
       "   Parch            Ticket     Fare Cabin Embarked Categorical  \n",
       "0      0         A/5 21171   7.2500   NaN        S           3  \n",
       "1      0          PC 17599  71.2833   C85        C           1  \n",
       "2      0  STON/O2. 3101282   7.9250   NaN        S           3  "
      ]
     },
     "execution_count": 9,
     "metadata": {},
     "output_type": "execute_result"
    }
   ],
   "source": [
    "df.head(3)"
   ]
  },
  {
   "cell_type": "markdown",
   "id": "b3a6cb51-7d5c-42cc-9a89-1f85de6904f4",
   "metadata": {},
   "source": []
  },
  {
   "cell_type": "markdown",
   "id": "9fcf432d-d9f8-4eb5-bd9e-532647019440",
   "metadata": {},
   "source": [
    "Q10. Write a Python program that reads a CSV file containing sales data for different products and\n",
    "visualizes the data using a stacked bar chart to show the sales of each product category over time. The\n",
    "program should prompt the user to enter the file path and display the chart."
   ]
  },
  {
   "cell_type": "code",
   "execution_count": 23,
   "id": "03f08b26-90d6-4d1b-82e4-efece1944458",
   "metadata": {},
   "outputs": [],
   "source": [
    "df = pd.DataFrame({\"Sales of the Product A\":[12,14,10,5,20,25,6,17],\n",
    "             \"Sales of the Product B\":[14,16,7,10,20,21,8,7]})"
   ]
  },
  {
   "cell_type": "code",
   "execution_count": 24,
   "id": "fd7f27b8-a9c8-404f-a6e8-8aca3d8478e7",
   "metadata": {},
   "outputs": [
    {
     "data": {
      "text/html": [
       "<div>\n",
       "<style scoped>\n",
       "    .dataframe tbody tr th:only-of-type {\n",
       "        vertical-align: middle;\n",
       "    }\n",
       "\n",
       "    .dataframe tbody tr th {\n",
       "        vertical-align: top;\n",
       "    }\n",
       "\n",
       "    .dataframe thead th {\n",
       "        text-align: right;\n",
       "    }\n",
       "</style>\n",
       "<table border=\"1\" class=\"dataframe\">\n",
       "  <thead>\n",
       "    <tr style=\"text-align: right;\">\n",
       "      <th></th>\n",
       "      <th>Sales of the Product A</th>\n",
       "      <th>Sales of the Product B</th>\n",
       "    </tr>\n",
       "  </thead>\n",
       "  <tbody>\n",
       "    <tr>\n",
       "      <th>0</th>\n",
       "      <td>12</td>\n",
       "      <td>14</td>\n",
       "    </tr>\n",
       "    <tr>\n",
       "      <th>1</th>\n",
       "      <td>14</td>\n",
       "      <td>16</td>\n",
       "    </tr>\n",
       "    <tr>\n",
       "      <th>2</th>\n",
       "      <td>10</td>\n",
       "      <td>7</td>\n",
       "    </tr>\n",
       "    <tr>\n",
       "      <th>3</th>\n",
       "      <td>5</td>\n",
       "      <td>10</td>\n",
       "    </tr>\n",
       "    <tr>\n",
       "      <th>4</th>\n",
       "      <td>20</td>\n",
       "      <td>20</td>\n",
       "    </tr>\n",
       "    <tr>\n",
       "      <th>5</th>\n",
       "      <td>25</td>\n",
       "      <td>21</td>\n",
       "    </tr>\n",
       "    <tr>\n",
       "      <th>6</th>\n",
       "      <td>6</td>\n",
       "      <td>8</td>\n",
       "    </tr>\n",
       "    <tr>\n",
       "      <th>7</th>\n",
       "      <td>17</td>\n",
       "      <td>7</td>\n",
       "    </tr>\n",
       "  </tbody>\n",
       "</table>\n",
       "</div>"
      ],
      "text/plain": [
       "   Sales of the Product A  Sales of the Product B\n",
       "0                      12                      14\n",
       "1                      14                      16\n",
       "2                      10                       7\n",
       "3                       5                      10\n",
       "4                      20                      20\n",
       "5                      25                      21\n",
       "6                       6                       8\n",
       "7                      17                       7"
      ]
     },
     "execution_count": 24,
     "metadata": {},
     "output_type": "execute_result"
    }
   ],
   "source": [
    "df"
   ]
  },
  {
   "cell_type": "code",
   "execution_count": 25,
   "id": "72b5083c-d0c3-4733-8866-691952b812be",
   "metadata": {},
   "outputs": [
    {
     "data": {
      "text/plain": [
       "<AxesSubplot: >"
      ]
     },
     "execution_count": 25,
     "metadata": {},
     "output_type": "execute_result"
    },
    {
     "data": {
      "image/png": "[encoded data removed]",
      "text/plain": [
       "<Figure size 640x480 with 1 Axes>"
      ]
     },
     "metadata": {},
     "output_type": "display_data"
    }
   ],
   "source": [
    "df.plot(kind='bar',stacked=True)"
   ]
  },
  {
   "cell_type": "code",
   "execution_count": null,
   "id": "cc4dff6b-aec5-499c-86a7-bf8b1b76d1f5",
   "metadata": {},
   "outputs": [],
   "source": []
  },
  {
   "cell_type": "markdown",
   "id": "14890bd9-ff90-4829-98ba-093fc0f5e764",
   "metadata": {},
   "source": [
    "Q11. You are given a CSV file containing student data that includes the student ID and their test score. Write\n",
    "a Python program that reads the CSV file, calculates the mean, median, and mode of the test scores, and\n",
    "displays the results in a table.\n",
    "The program should do the followingM\n",
    "I Prompt the user to enter the file path of the CSV file containing the student dataR\n",
    "I Read the CSV file into a Pandas DataFrameR\n",
    "I Calculate the mean, median, and mode of the test scores using Pandas toolsR\n",
    "I Display the mean, median, and mode in a table.\n",
    "\n",
    "Assume the CSV file contains the following columnsM\n",
    "I Student ID: The ID of the studentR\n",
    "I Test Score: The score of the student's test.\n",
    "Example usage of the program:\n",
    "\n",
    "Enter the file path of the CSV file containing the student data: student_data.csv\n",
    "\n",
    "\n",
    "+-----------+--------+\n",
    "\n",
    "| Statistic | Value  |\n",
    "\n",
    "+-----------+--------+\n",
    "\n",
    "| Mean      | 79.6   |\n",
    "\n",
    "| Median    | 82     |\n",
    "\n",
    "| Mode      | 85, 90 |\n",
    "\n",
    "+-----------+--------+\n",
    "\n",
    "\n",
    "Assume that the CSV file student_data.csv contains the following data:\n",
    "\n",
    "Student ID,Test Score\n",
    "\n",
    "1,85\n",
    "\n",
    "2,90\n",
    "\n",
    "3,80\n",
    "\n",
    "4,75\n",
    "\n",
    "5,85\n",
    "\n",
    "6,82\n",
    "\n",
    "7,78\n",
    "\n",
    "8,85\n",
    "\n",
    "9,90\n",
    "\n",
    "10,85\n",
    "\n",
    "\n",
    "The program should calculate the mean, median, and mode of the test scores and display the results in a table"
   ]
  },
  {
   "cell_type": "code",
   "execution_count": 18,
   "id": "6804b470-bd40-4c99-bd51-3f0c3c7e2a7e",
   "metadata": {},
   "outputs": [],
   "source": [
    "Result=pd.DataFrame({\"R\":[85,90,80,75,85,82,78,85,90,85]},index = [\"1\",\"2\",\"3\",\"4\",\"5\",\"6\",\"7\",\"8\",\"9\",\"10\"])"
   ]
  },
  {
   "cell_type": "code",
   "execution_count": 19,
   "id": "c103195b-8235-4eca-8b01-e7aecd7089cf",
   "metadata": {},
   "outputs": [
    {
     "data": {
      "text/html": [
       "<div>\n",
       "<style scoped>\n",
       "    .dataframe tbody tr th:only-of-type {\n",
       "        vertical-align: middle;\n",
       "    }\n",
       "\n",
       "    .dataframe tbody tr th {\n",
       "        vertical-align: top;\n",
       "    }\n",
       "\n",
       "    .dataframe thead th {\n",
       "        text-align: right;\n",
       "    }\n",
       "</style>\n",
       "<table border=\"1\" class=\"dataframe\">\n",
       "  <thead>\n",
       "    <tr style=\"text-align: right;\">\n",
       "      <th></th>\n",
       "      <th>R</th>\n",
       "    </tr>\n",
       "  </thead>\n",
       "  <tbody>\n",
       "    <tr>\n",
       "      <th>1</th>\n",
       "      <td>85</td>\n",
       "    </tr>\n",
       "    <tr>\n",
       "      <th>2</th>\n",
       "      <td>90</td>\n",
       "    </tr>\n",
       "    <tr>\n",
       "      <th>3</th>\n",
       "      <td>80</td>\n",
       "    </tr>\n",
       "    <tr>\n",
       "      <th>4</th>\n",
       "      <td>75</td>\n",
       "    </tr>\n",
       "    <tr>\n",
       "      <th>5</th>\n",
       "      <td>85</td>\n",
       "    </tr>\n",
       "    <tr>\n",
       "      <th>6</th>\n",
       "      <td>82</td>\n",
       "    </tr>\n",
       "    <tr>\n",
       "      <th>7</th>\n",
       "      <td>78</td>\n",
       "    </tr>\n",
       "    <tr>\n",
       "      <th>8</th>\n",
       "      <td>85</td>\n",
       "    </tr>\n",
       "    <tr>\n",
       "      <th>9</th>\n",
       "      <td>90</td>\n",
       "    </tr>\n",
       "    <tr>\n",
       "      <th>10</th>\n",
       "      <td>85</td>\n",
       "    </tr>\n",
       "  </tbody>\n",
       "</table>\n",
       "</div>"
      ],
      "text/plain": [
       "     R\n",
       "1   85\n",
       "2   90\n",
       "3   80\n",
       "4   75\n",
       "5   85\n",
       "6   82\n",
       "7   78\n",
       "8   85\n",
       "9   90\n",
       "10  85"
      ]
     },
     "execution_count": 19,
     "metadata": {},
     "output_type": "execute_result"
    }
   ],
   "source": [
    "Result"
   ]
  },
  {
   "cell_type": "code",
   "execution_count": 20,
   "id": "3962e5e0-f612-445b-b32d-48710f974028",
   "metadata": {},
   "outputs": [
    {
     "data": {
      "text/plain": [
       "83.5"
      ]
     },
     "execution_count": 20,
     "metadata": {},
     "output_type": "execute_result"
    }
   ],
   "source": [
    "Result[\"R\"].mean()"
   ]
  },
  {
   "cell_type": "code",
   "execution_count": 21,
   "id": "bfe56bf8-fdc2-4b65-a9b3-26cf961b8cec",
   "metadata": {},
   "outputs": [
    {
     "data": {
      "text/plain": [
       "85.0"
      ]
     },
     "execution_count": 21,
     "metadata": {},
     "output_type": "execute_result"
    }
   ],
   "source": [
    "Result[\"R\"].median()"
   ]
  },
  {
   "cell_type": "code",
   "execution_count": 22,
   "id": "5862d986-4a45-45a9-89e0-0466c5a54b19",
   "metadata": {},
   "outputs": [
    {
     "data": {
      "text/plain": [
       "0    85\n",
       "Name: R, dtype: int64"
      ]
     },
     "execution_count": 22,
     "metadata": {},
     "output_type": "execute_result"
    }
   ],
   "source": [
    "Result[\"R\"].mode()"
   ]
  },
  {
   "cell_type": "code",
   "execution_count": null,
   "id": "e1cdcf80-d1d5-4169-98a5-39eed1efe409",
   "metadata": {},
   "outputs": [],
   "source": []
  }
 ],
 "metadata": {
  "kernelspec": {
   "display_name": "Python 3 (ipykernel)",
   "language": "python",
   "name": "python3"
  },
  "language_info": {
   "codemirror_mode": {
    "name": "ipython",
    "version": 3
   },
   "file_extension": ".py",
   "mimetype": "text/x-python",
   "name": "python",
   "nbconvert_exporter": "python",
   "pygments_lexer": "ipython3",
   "version": "3.10.8"
  }
 },
 "nbformat": 4,
 "nbformat_minor": 5
}
